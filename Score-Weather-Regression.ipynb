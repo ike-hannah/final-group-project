{
 "cells": [
  {
   "cell_type": "code",
   "execution_count": null,
   "id": "3ad5049f",
   "metadata": {},
   "outputs": [],
   "source": []
  },
  {
   "cell_type": "code",
   "execution_count": 1,
   "id": "5fae3c31",
   "metadata": {},
   "outputs": [],
   "source": [
    "import numpy as np\n",
    "import matplotlib.pyplot as plt  # To visualize\n",
    "import pandas as pd  # To read data\n",
    "from sklearn.linear_model import LinearRegression"
   ]
  },
  {
   "cell_type": "code",
   "execution_count": 2,
   "id": "0d85213e",
   "metadata": {},
   "outputs": [],
   "source": [
    "df = pd.read_csv(\"gamesdata.csv\")"
   ]
  },
  {
   "cell_type": "code",
   "execution_count": 3,
   "id": "8806c0ee",
   "metadata": {},
   "outputs": [],
   "source": [
    "df = df.dropna()"
   ]
  },
  {
   "cell_type": "code",
   "execution_count": 4,
   "id": "efafad2f",
   "metadata": {},
   "outputs": [
    {
     "data": {
      "text/plain": [
       "schedule_date          103\n",
       "schedule_season        103\n",
       "schedule_week          103\n",
       "schedule_playoff       103\n",
       "team_home              103\n",
       "score_home             103\n",
       "score_away             103\n",
       "team_away              103\n",
       "team_favorite_id       103\n",
       "spread_favorite        103\n",
       "over_under_line        103\n",
       "stadium                103\n",
       "stadium_neutral        103\n",
       "weather_temperature    103\n",
       "weather_wind_mph       103\n",
       "weather_humidity       103\n",
       "weather_detail         103\n",
       "overall_score          103\n",
       "dtype: int64"
      ]
     },
     "execution_count": 4,
     "metadata": {},
     "output_type": "execute_result"
    }
   ],
   "source": [
    "df.count()"
   ]
  },
  {
   "cell_type": "code",
   "execution_count": 10,
   "id": "07625426",
   "metadata": {},
   "outputs": [],
   "source": [
    "X = df['weather_temperature'].values.reshape(-1, 1)  # values converts it into a numpy array\n",
    "Y = df['overall_score'].values.reshape(-1, 1)  # -1 means that calculate the dimension of rows, but have 1 column\n",
    "linear_regressor = LinearRegression()  # create object for the class\n",
    "linear_regressor.fit(X, Y)  # perform linear regression\n",
    "Y_pred = linear_regressor.predict(X)  # make predictions"
   ]
  },
  {
   "cell_type": "code",
   "execution_count": 12,
   "id": "7bce6f10",
   "metadata": {},
   "outputs": [
    {
     "data": {
      "image/png": "[encoded data removed]",
      "text/plain": [
       "<Figure size 432x288 with 1 Axes>"
      ]
     },
     "metadata": {
      "needs_background": "light"
     },
     "output_type": "display_data"
    }
   ],
   "source": [
    "plt.scatter(X, Y)\n",
    "plt.plot(X, Y_pred, color='red')\n",
    "plt.xlabel(\"Temperature(F)\")\n",
    "plt.ylabel(\"Score\")\n",
    "plt.title(\"NFL Score vs. Temp(F) Regression\")\n",
    "plt.show()"
   ]
  },
  {
   "cell_type": "code",
   "execution_count": null,
   "id": "cec78ffa",
   "metadata": {},
   "outputs": [],
   "source": []
  },
  {
   "cell_type": "code",
   "execution_count": null,
   "id": "cf366241",
   "metadata": {},
   "outputs": [],
   "source": []
  }
 ],
 "metadata": {
  "kernelspec": {
   "display_name": "mlenv",
   "language": "python",
   "name": "mlenv"
  },
  "language_info": {
   "codemirror_mode": {
    "name": "ipython",
    "version": 3
   },
   "file_extension": ".py",
   "mimetype": "text/x-python",
   "name": "python",
   "nbconvert_exporter": "python",
   "pygments_lexer": "ipython3",
   "version": "3.7.11"
  }
 },
 "nbformat": 4,
 "nbformat_minor": 5
}
